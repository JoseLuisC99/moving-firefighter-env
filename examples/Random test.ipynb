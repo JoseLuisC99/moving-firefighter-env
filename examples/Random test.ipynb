{
 "cells": [
  {
   "cell_type": "code",
   "execution_count": 1,
   "id": "initial_id",
   "metadata": {
    "ExecuteTime": {
     "end_time": "2024-06-06T19:40:03.779615Z",
     "start_time": "2024-06-06T19:40:03.672521Z"
    }
   },
   "outputs": [],
   "source": [
    "import gymnasium as gym\n",
    "import moving_firefighter_env as mfp\n",
    "import numpy as np"
   ]
  },
  {
   "cell_type": "code",
   "execution_count": 3,
   "id": "f3ee75d8-3af8-4a0b-94ee-194a97b56e59",
   "metadata": {
    "ExecuteTime": {
     "end_time": "2024-06-12T16:25:10.290513Z",
     "start_time": "2024-06-12T16:25:10.288279Z"
    }
   },
   "outputs": [
    {
     "name": "stdout",
     "output_type": "stream",
     "text": [
      "Final reward: -95.0\n"
     ]
    }
   ],
   "source": [
    "env = gym.make(\"mfp/MovingFirefighter-v0\", n=20, is_tree=False, render_mode=\"human\", seed=0)\n",
    "state, _ = env.reset()\n",
    "done = False\n",
    "final_reward = 0\n",
    "\n",
    "for _ in range(30):\n",
    "    action = np.random.choice(env.unwrapped.valid_actions())\n",
    "    observation, reward, terminated, truncated, info = env.step(action)\n",
    "    final_reward += reward\n",
    "\n",
    "    if terminated or truncated:\n",
    "        observation, info = env.reset()\n",
    "\n",
    "print(f\"Final reward: {final_reward}\")\n",
    "env.close()"
   ]
  },
  {
   "cell_type": "code",
   "execution_count": null,
   "id": "c0b0bad4-5f88-4c19-b377-6a232537d912",
   "metadata": {},
   "outputs": [],
   "source": []
  }
 ],
 "metadata": {
  "kernelspec": {
   "display_name": "Python 3 (ipykernel)",
   "language": "python",
   "name": "python3"
  },
  "language_info": {
   "codemirror_mode": {
    "name": "ipython",
    "version": 3
   },
   "file_extension": ".py",
   "mimetype": "text/x-python",
   "name": "python",
   "nbconvert_exporter": "python",
   "pygments_lexer": "ipython3",
   "version": "3.11.5"
  }
 },
 "nbformat": 4,
 "nbformat_minor": 5
}
