{
 "cells": [
  {
   "cell_type": "code",
   "execution_count": 1,
   "id": "initial_id",
   "metadata": {
    "ExecuteTime": {
     "end_time": "2024-09-11T17:04:37.681457Z",
     "start_time": "2024-09-11T17:04:37.292557Z"
    }
   },
   "outputs": [],
   "source": [
    "import gymnasium as gym\n",
    "import moving_firefighter_env as mfp\n",
    "import numpy as np"
   ]
  },
  {
   "cell_type": "code",
   "execution_count": 2,
   "id": "f3ee75d8-3af8-4a0b-94ee-194a97b56e59",
   "metadata": {
    "ExecuteTime": {
     "end_time": "2024-09-11T17:04:56.299558Z",
     "start_time": "2024-09-11T17:04:54.793498Z"
    }
   },
   "outputs": [
    {
     "name": "stdout",
     "output_type": "stream",
     "text": [
      "Episode reward: 57\n",
      "Episode reward: 48\n",
      "Episode reward: 70\n",
      "Episode reward: 65\n",
      "Episode reward: 66\n",
      "Episode reward: 48\n",
      "Episode reward: 68\n",
      "Episode reward: 60\n"
     ]
    }
   ],
   "source": [
    "env = gym.make(\"mfp/MovingFirefighter-v0\", n=100, is_tree=True, render_mode=\"human\", seed=0)\n",
    "state, _ = env.reset()\n",
    "done = False\n",
    "final_reward = 0\n",
    "\n",
    "for _ in range(300):\n",
    "    action = np.random.choice(env.unwrapped.valid_actions())\n",
    "    observation, reward, terminated, truncated, info = env.step(action)\n",
    "    final_reward += reward\n",
    "\n",
    "    if terminated or truncated:\n",
    "        print(f\"Episode reward: {final_reward}\")\n",
    "        observation, info = env.reset()\n",
    "        final_reward = 0\n",
    "env.close()"
   ]
  },
  {
   "cell_type": "code",
   "execution_count": null,
   "id": "3eb8350f-ebb0-4e96-b667-dda7c9219113",
   "metadata": {},
   "outputs": [],
   "source": []
  }
 ],
 "metadata": {
  "kernelspec": {
   "display_name": "Python 3 (ipykernel)",
   "language": "python",
   "name": "python3"
  },
  "language_info": {
   "codemirror_mode": {
    "name": "ipython",
    "version": 3
   },
   "file_extension": ".py",
   "mimetype": "text/x-python",
   "name": "python",
   "nbconvert_exporter": "python",
   "pygments_lexer": "ipython3",
   "version": "3.12.6"
  }
 },
 "nbformat": 4,
 "nbformat_minor": 5
}
