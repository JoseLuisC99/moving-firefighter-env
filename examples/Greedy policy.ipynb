{
 "cells": [
  {
   "cell_type": "code",
   "execution_count": 1,
   "id": "initial_id",
   "metadata": {
    "ExecuteTime": {
     "end_time": "2024-06-06T19:40:03.779615Z",
     "start_time": "2024-06-06T19:40:03.672521Z"
    }
   },
   "outputs": [],
   "source": [
    "import gymnasium as gym\n",
    "import moving_firefighter_env as mfp\n",
    "import numpy as np\n",
    "import networkx as nx\n",
    "import matplotlib.pyplot as plt\n",
    "from itertools import count"
   ]
  },
  {
   "cell_type": "code",
   "execution_count": 2,
   "id": "1c72ff8f-fb74-46a4-943b-8dfdeaa6e890",
   "metadata": {},
   "outputs": [],
   "source": [
    "class GreeedyPolicy:\n",
    "    def __init__(self, initial_state):\n",
    "        graph_burnt_state = initial_state[\"graph_burnt\"]\n",
    "        graph_burnt = nx.Graph()\n",
    "        graph_burnt.add_nodes_from(range(len(graph_burnt_state.nodes)))\n",
    "        graph_burnt.add_edges_from(graph_burnt_state.edge_links)\n",
    "\n",
    "        graph_fighter_state = state[\"graph_fighter\"]\n",
    "        graph_fighter = nx.complete_graph(len(graph_fighter_state.nodes))\n",
    "\n",
    "        positions = dict()\n",
    "        for i, pos in enumerate(graph_fighter_state.nodes):\n",
    "            positions[i] = pos\n",
    "\n",
    "        distances = dict()\n",
    "        for edge, weight in zip(graph_fighter_state.edge_links, graph_fighter_state.edges):\n",
    "            distances[tuple(edge)] = weight.item()\n",
    "        nx.set_edge_attributes(graph_fighter, distances, \"distance\")\n",
    "\n",
    "        root = state[\"burnt_nodes\"][0]\n",
    "        depth = dict()\n",
    "        visited = [root]\n",
    "        def compute_depth(root):\n",
    "            node_depth = 1\n",
    "            for neighbor in graph_burnt.neighbors(root):\n",
    "                if neighbor not in visited:\n",
    "                    visited.append(neighbor)\n",
    "                    node_depth += compute_depth(neighbor)\n",
    "            depth[root] = node_depth\n",
    "            return node_depth\n",
    "        compute_depth(root)\n",
    "\n",
    "        self.graph_burnt = graph_burnt\n",
    "        self.graph_fighter = graph_fighter\n",
    "        self.positions = positions\n",
    "        self.distances = distances\n",
    "        self.depth = depth\n",
    "        self.root = root\n",
    "\n",
    "    def next_action(self, valid_actions):\n",
    "        if len(valid_actions) == 1:\n",
    "            return valid_actions[0]\n",
    "        else:\n",
    "            greedy_actions = []\n",
    "            max_depth = float(\"-inf\")\n",
    "            for action in valid_actions[1:]:\n",
    "                if self.depth[action] > max_depth:\n",
    "                    max_depth = self.depth[action]\n",
    "                    greedy_actions = [action]\n",
    "                elif self.depth[action] == max_depth:\n",
    "                    greedy_actions.append(action)\n",
    "            return np.random.choice(greedy_actions)\n",
    "\n",
    "    def draw(self):\n",
    "        fig, (ax1, ax2) = plt.subplots(1, 2, figsize=(10, 5))\n",
    "        nx.draw(self.graph_burnt, pos=self.positions, with_labels=True, node_color=[0] * n, ax=ax1)\n",
    "        nx.draw(self.graph_fighter, pos=self.positions, with_labels=True, node_color=[0] * n + [1], ax=ax2)\n",
    "        ax1.set_title(\"Fire's graph view\")\n",
    "        ax2.set_title(\"Fighter's graph view\")\n",
    "        plt.show()"
   ]
  },
  {
   "cell_type": "code",
   "execution_count": 10,
   "id": "c2a7e240-3e64-403a-a087-0d0c06fdddf3",
   "metadata": {},
   "outputs": [
    {
     "name": "stdout",
     "output_type": "stream",
     "text": [
      "Average reward: -50.95.\n"
     ]
    }
   ],
   "source": [
    "experiments = 20\n",
    "n = 200\n",
    "env = gym.make(\"mfp/MovingFirefighter-v0\", n=n, num_fires=1, is_tree=True, time_slots=0.3, render_mode=\"human\", seed=32)\n",
    "env.metadata[\"render_fps\"] = 32\n",
    "\n",
    "\n",
    "final_reward = 0\n",
    "for _ in range(experiments):\n",
    "    state, _ = env.reset()\n",
    "    policy = GreeedyPolicy(state)\n",
    "    for _ in count():\n",
    "        valid_actions = env.unwrapped.valid_actions()\n",
    "        action = policy.next_action(valid_actions)\n",
    "        observation, reward, terminated, truncated, info = env.step(action)\n",
    "        final_reward += reward\n",
    "    \n",
    "        if terminated or truncated:\n",
    "            break\n",
    "\n",
    "print(f\"Average reward: {final_reward / experiments}.\")\n",
    "env.close()"
   ]
  },
  {
   "cell_type": "code",
   "execution_count": null,
   "id": "d5f091b6-5cb2-45dc-9e63-fe837e70c683",
   "metadata": {},
   "outputs": [],
   "source": []
  }
 ],
 "metadata": {
  "kernelspec": {
   "display_name": "Python 3 (ipykernel)",
   "language": "python",
   "name": "python3"
  },
  "language_info": {
   "codemirror_mode": {
    "name": "ipython",
    "version": 3
   },
   "file_extension": ".py",
   "mimetype": "text/x-python",
   "name": "python",
   "nbconvert_exporter": "python",
   "pygments_lexer": "ipython3",
   "version": "3.11.5"
  }
 },
 "nbformat": 4,
 "nbformat_minor": 5
}
